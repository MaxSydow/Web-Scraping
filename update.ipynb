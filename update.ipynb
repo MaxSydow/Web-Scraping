{
 "cells": [
  {
   "cell_type": "code",
   "execution_count": 5,
   "metadata": {},
   "outputs": [],
   "source": [
    "\"\"\"\n",
    "Collection of functions to enable cleaning of relevant values for OSM data. \n",
    "Mappings based on findings from analysis of data sample.\n",
    "\"\"\"\n",
    "import import_ipynb  # needed to import audit scripts as ipynb file\n",
    "from audit import street_type_re, postal_re, short_postal_re\n",
    "import re\n",
    "\n",
    "street_mapping = { \"St\": \"Street\",\n",
    "            \"St.\": \"Street\",\n",
    "            \"Ave\": \"Avenue\",\n",
    "            \"Av\": \"Avenue\",\n",
    "            \"Ave\": \"Avenue\",\n",
    "            \"Rd.\": \"Road\",\n",
    "            \"Pkwy\": \"Parkway\",\n",
    "            \"Rd/Pkwy\": \"Parkway\",\n",
    "            \"Blvd\": \"Boulevard\",\n",
    "            \"Pl\": \"Place\",\n",
    "            \"Terr\": \"Terrace\",\n",
    "            \"Ln\": \"Lane\",\n",
    "            \"Norteast\": \"Northeast\"                    \n",
    "            }\n",
    "\n",
    "def update_street_name(name):\n",
    "    \"\"\"Clean street name values based on mapping.\n",
    "    Args:\n",
    "        name (str): raw street name value.\n",
    "    Returns:\n",
    "        better_name (str): cleaned street name value.\n",
    "    \"\"\"\n",
    "    m = street_type_re.search(name)\n",
    "    better_name = name\n",
    "    if m and m.group() in street_mapping:\n",
    "        better_street_type = street_mapping[m.group()]\n",
    "        better_name = street_type_re.sub(better_street_type, name)\n",
    "\n",
    "    return better_name\n",
    "    \n",
    "def update_post_code(value):\n",
    "    \"\"\"Clean post code values based on expected format.\n",
    "    Args:\n",
    "        value (str): raw post code value.\n",
    "    Returns:\n",
    "        value (str): raw post code value.\n",
    "        None if data does not match expected format.\n",
    "    \"\"\"\n",
    "    if not post_code_re.match(value):\n",
    "        m = short_post_code_re.match(value)\n",
    "        if m:\n",
    "            value = m.group()\n",
    "        else:\n",
    "            return None\n",
    "    return value\n"
   ]
  },
  {
   "cell_type": "code",
   "execution_count": null,
   "metadata": {},
   "outputs": [],
   "source": []
  }
 ],
 "metadata": {
  "kernelspec": {
   "display_name": "Python 3",
   "language": "python",
   "name": "python3"
  },
  "language_info": {
   "codemirror_mode": {
    "name": "ipython",
    "version": 3
   },
   "file_extension": ".py",
   "mimetype": "text/x-python",
   "name": "python",
   "nbconvert_exporter": "python",
   "pygments_lexer": "ipython3",
   "version": "3.6.8"
  }
 },
 "nbformat": 4,
 "nbformat_minor": 2
}
